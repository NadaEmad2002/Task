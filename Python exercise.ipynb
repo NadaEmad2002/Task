{
 "cells": [
  {
   "cell_type": "code",
   "execution_count": 1,
   "id": "33f6251a",
   "metadata": {},
   "outputs": [
    {
     "name": "stdout",
     "output_type": "stream",
     "text": [
      "Enter The Text: Nada Emad\n",
      "The Length of Text =  9\n"
     ]
    }
   ],
   "source": [
    "###1- Write a Python program to calculate the length of a string\n",
    "text=input(\"Enter The Text: \")\n",
    "print(\"The Length of Text = \" ,len(text))"
   ]
  },
  {
   "cell_type": "code",
   "execution_count": 2,
   "id": "6b5d0f9e",
   "metadata": {},
   "outputs": [
    {
     "name": "stdout",
     "output_type": "stream",
     "text": [
      "Enter The Text: Holle Python\n",
      "Hoon\n"
     ]
    }
   ],
   "source": [
    "##2-Write a Python program to get a string made of the first 2 and last 2 \n",
    "#characters of a given string. If the string length is less than 2,\n",
    "#return the empty string instead\n",
    "text=input(\"Enter The Text: \")\n",
    "if len(text) < 2:\n",
    "    print(\"Empty String\")\n",
    "else:\n",
    "    print(text[0:2] + text[-2:])"
   ]
  },
  {
   "cell_type": "code",
   "execution_count": 3,
   "id": "b1f5b378",
   "metadata": {},
   "outputs": [
    {
     "name": "stdout",
     "output_type": "stream",
     "text": [
      "Enter The Text: abc\n",
      "abcing\n"
     ]
    }
   ],
   "source": [
    "##3- Write a Python program to add 'ing' at the end of a given string \n",
    "#(length should be at least 3). If the given string already ends with 'ing',\n",
    "#add 'ly' instead. If the string length of the given string is less than 3,\n",
    "#leave it unchanged. (Sample String : 'abc' Expected Result : 'abcing')\n",
    "text=input(\"Enter The Text: \")\n",
    "if len(text) < 3:\n",
    "    print(text)\n",
    "else:\n",
    "    if text[-3:]=='ing':\n",
    "        print(text+\"ly\")\n",
    "    else:\n",
    "         print(text+\"ing\")    "
   ]
  },
  {
   "cell_type": "code",
   "execution_count": 5,
   "id": "f10885b5",
   "metadata": {},
   "outputs": [],
   "source": [
    "##4- Write a Python function that takes a list of words and return the\n",
    "#longest word and the length of the longest one \n",
    "def find_longest_word():\n",
    "    word_list=input(\"Enter The Words list: \")\n",
    "    list=word_list.split(\",\")\n",
    "    word_len=[]\n",
    "    for word in list :\n",
    "        word_len.append((len(x),x))\n",
    "        word_len.sort()\n",
    "    print(\"\\nLongest word: \",list[0])\n",
    "#print(\"Length of the longest word: \",)\n"
   ]
  },
  {
   "cell_type": "code",
   "execution_count": 6,
   "id": "a1b610dd",
   "metadata": {},
   "outputs": [
    {
     "name": "stdout",
     "output_type": "stream",
     "text": [
      "Enter The Text: abce\n",
      "ebca\n"
     ]
    }
   ],
   "source": [
    "## 5-Write a Python program to change a given string to a newly string where\n",
    "#the first and last chars have been exchanged using 2 ways \n",
    "#(Sample String:abce Expected Result:ebca)\n",
    "text=input(\"Enter The Text: \")\n",
    "print(text[-1:]+text[1:-1]+text[:1])"
   ]
  },
  {
   "cell_type": "code",
   "execution_count": 9,
   "id": "6ae697f5",
   "metadata": {},
   "outputs": [
    {
     "name": "stdout",
     "output_type": "stream",
     "text": [
      "Enter The Text: abcd\n",
      "odd_values_string : ac\n"
     ]
    }
   ],
   "source": [
    "## 6-Write a Python program to remove characters that have odd index values \n",
    "#in a given string (Sample String:abca Expected Result:ac)\n",
    "text=input(\"Enter The Text: \")\n",
    "odd_str=\"\"\n",
    "for i in range(len(text)):\n",
    "    if i % 2 == 0:\n",
    "        odd_str=odd_str+text[i]\n",
    "print(\"odd_values_string :\",odd_str)       "
   ]
  },
  {
   "cell_type": "code",
   "execution_count": 12,
   "id": "e6ffe738",
   "metadata": {},
   "outputs": [
    {
     "name": "stdout",
     "output_type": "stream",
     "text": [
      "Enter The Words list: amr and ahmed are frindes but amr is the tallest\n",
      "{'amr': 2, 'and': 1, 'ahmed': 1, 'are': 1, 'frindes': 1, 'but': 1, 'is': 1, 'the': 1, 'tallest': 1}\n"
     ]
    }
   ],
   "source": [
    "## 7-Write a Python program to count the occurrences of each word in a given\n",
    "#sentence (Sample String:amr and ahmed are frindes but amr is the tallest \n",
    "#Expected Result:2)\n",
    "word_list=input(\"Enter The Words: \")\n",
    "counts= dict()\n",
    "List=word_list.split()\n",
    "for i in List:\n",
    "    if i in counts:\n",
    "        counts[i]+=1\n",
    "    else:\n",
    "        counts[i] =1 \n",
    "print(counts)"
   ]
  },
  {
   "cell_type": "code",
   "execution_count": 13,
   "id": "f55a7f79",
   "metadata": {},
   "outputs": [
    {
     "name": "stdout",
     "output_type": "stream",
     "text": [
      "Enter The Words: amr and ahmed are frindes but amr is the tallest\n",
      "AMR AND AHMED ARE FRINDES BUT AMR IS THE TALLEST\n",
      "amr and ahmed are frindes but amr is the tallest\n"
     ]
    }
   ],
   "source": [
    "## 8-Write a Python script that takes input from the user and displays that \n",
    "#input back in upper and lower cases\n",
    "words=input(\"Enter The Words: \")\n",
    "print(words.upper\n",
    "print(words.lower())"
   ]
  },
  {
   "cell_type": "code",
   "execution_count": 15,
   "id": "ec6eb6dd",
   "metadata": {},
   "outputs": [
    {
     "name": "stdout",
     "output_type": "stream",
     "text": [
      "adaN\n",
      "Nada Emad\n"
     ]
    }
   ],
   "source": [
    "## 9-Write a Python function to reverse a string if its length is a \n",
    "# multiple of 4\n",
    "def reverse_string(words):\n",
    "    if len(words)%4==0:\n",
    "        return ''.join(reversed(words))\n",
    "    return words  \n",
    "print(reverse_string('Nada'))\n",
    "print(reverse_string('Nada Emad'))"
   ]
  },
  {
   "cell_type": "code",
   "execution_count": 21,
   "id": "78eeef87",
   "metadata": {},
   "outputs": [
    {
     "name": "stdout",
     "output_type": "stream",
     "text": [
      "words before deletion python, C++ ,Java , SQL\n",
      "\n",
      "words after deletion python, C++ ,Java , SQL\n"
     ]
    }
   ],
   "source": [
    "## 10- Write a Python program to remove a newline in Python\n",
    "words='python, C++ ,Java , SQL\\n'\n",
    "print(\"words before deletion\",words)\n",
    "print(\"words after deletion\",words.rstrip())"
   ]
  },
  {
   "cell_type": "code",
   "execution_count": 32,
   "id": "97551d49",
   "metadata": {},
   "outputs": [
    {
     "name": "stdout",
     "output_type": "stream",
     "text": [
      "Enter the string : Mona Ali\n",
      "False\n"
     ]
    }
   ],
   "source": [
    "## 11-Write a Python program to check whether a string starts with \n",
    "#specified characters\n",
    "string=input(\"Enter the string : \")\n",
    "print(string.startswith('Nada'))"
   ]
  },
  {
   "cell_type": "code",
   "execution_count": 35,
   "id": "edb3706a",
   "metadata": {},
   "outputs": [
    {
     "name": "stdout",
     "output_type": "stream",
     "text": [
      "Enter the text:Online pharmacy for the purchase of medicines and other healthcare products.The product catalog of the company includes pharma, cosmetics, and medical devices.It offers OTC, prescribed medicines, and diagnostic test kits.\n",
      "\n",
      "> Online pharmacy for the purchase of medicines and\n",
      "> other healthcare products.The product catalog of\n",
      "> the company includes pharma, cosmetics, and\n",
      "> medical devices.It offers OTC, prescribed\n",
      "> medicines, and diagnostic test kits.\n",
      "\n"
     ]
    }
   ],
   "source": [
    "## 12-Write a Python program to add prefix text to all of the lines in \n",
    "#a string\n",
    "import textwrap\n",
    "text = input(\"Enter the text:\")\n",
    "text_without_Indentation = textwrap.dedent(text)\n",
    "wrapped = textwrap.fill(text_without_Indentation, width=50)\n",
    "final_result = textwrap.indent(wrapped, '> ')\n",
    "print()\n",
    "print(final_result)\n",
    "print()"
   ]
  },
  {
   "cell_type": "code",
   "execution_count": 40,
   "id": "f9309d66",
   "metadata": {},
   "outputs": [
    {
     "name": "stdout",
     "output_type": "stream",
     "text": [
      "Enter the Number: 51.147258\n",
      "\n",
      " Original Number:  51.147258\n",
      "Formatted Number:  51.15\n"
     ]
    }
   ],
   "source": [
    "## 13-Write a Python program to print the following numbers up to 2 \n",
    "# decimal places\n",
    "num=float(input(\"Enter the Number: \"))\n",
    "print(\"\\n Original Number: \", num)\n",
    "print(\"Formatted Number: \",\"{:.2f}\".format(num))"
   ]
  },
  {
   "cell_type": "code",
   "execution_count": 41,
   "id": "676303b7",
   "metadata": {},
   "outputs": [
    {
     "name": "stdout",
     "output_type": "stream",
     "text": [
      "Enter the Number: 3.21456\n",
      "\n",
      " Original Number:  3.21456\n",
      "Formatted Number with sign:  +3.21\n"
     ]
    }
   ],
   "source": [
    "## 14-Write a Python program to print the following numbers up to 2 \n",
    "# decimal places with a sign\n",
    "num=float(input(\"Enter the Number: \"))\n",
    "print(\"\\n Original Number: \", num)\n",
    "print(\"Formatted Number with sign: \",\"{:+.2f}\".format(num))"
   ]
  },
  {
   "cell_type": "code",
   "execution_count": 42,
   "id": "626ad680",
   "metadata": {
    "scrolled": true
   },
   "outputs": [
    {
     "name": "stdout",
     "output_type": "stream",
     "text": [
      "Enter the Number: 500000000\n",
      "\n",
      " Original Number:  500000000.0\n",
      "Formatted Number with comma separator:  500,000,000.0\n"
     ]
    }
   ],
   "source": [
    "## 15-Write a Python program to display a number with a comma separator\n",
    "num=float(input(\"Enter the Number: \"))\n",
    "print(\"\\n Original Number: \", num)\n",
    "print(\"Formatted Number with comma separator: \",\"{:,}\".format(num))"
   ]
  },
  {
   "cell_type": "code",
   "execution_count": 10,
   "id": "b5d3a2d7",
   "metadata": {},
   "outputs": [
    {
     "name": "stdout",
     "output_type": "stream",
     "text": [
      "['Ahmed', 'Emad', 'Ali', 'Nada']\n",
      "Ahmed\n"
     ]
    }
   ],
   "source": [
    "## 16-Write a Python program to reverse a string using 2 ways\n",
    "list_word=['Nada','Ali','Emad','Ahmed']\n",
    "list_word.reverse()\n",
    "print(list_word)\n",
    "print(list_word[0])"
   ]
  },
  {
   "cell_type": "code",
   "execution_count": 12,
   "id": "9359fd94",
   "metadata": {},
   "outputs": [
    {
     "name": "stdout",
     "output_type": "stream",
     "text": [
      "['Ahmed', 'Emad', 'Ali', 'Nada']\n"
     ]
    }
   ],
   "source": [
    "list_word=['Nada','Ali','Emad','Ahmed']\n",
    "print(list_word[::-1])"
   ]
  },
  {
   "cell_type": "code",
   "execution_count": 1,
   "id": "a7f7feef",
   "metadata": {
    "scrolled": true
   },
   "outputs": [
    {
     "name": "stdout",
     "output_type": "stream",
     "text": [
      "Enter the Text : amr and ahmed are frindes but amr is the tallest\n",
      "  9\n",
      "a 6\n",
      "e 5\n",
      "r 4\n",
      "t 4\n",
      "m 3\n",
      "d 3\n",
      "s 3\n",
      "n 2\n",
      "h 2\n",
      "i 2\n",
      "l 2\n"
     ]
    }
   ],
   "source": [
    "## 17-Write a Python program to count repeated characters in a string (hint:use dictionary)\n",
    "import collections\n",
    "text= input ('Enter the Text : ')\n",
    "x=collections.defaultdict(int)\n",
    "for i in text:\n",
    "    x[i]+=1\n",
    "for i in sorted(x,key=x.get,reverse=True) :\n",
    "    if x[i]>1:\n",
    "        print(i,x[i])\n",
    "        "
   ]
  },
  {
   "cell_type": "code",
   "execution_count": 2,
   "id": "47e8ce86",
   "metadata": {},
   "outputs": [
    {
     "name": "stdout",
     "output_type": "stream",
     "text": [
      "Enter the Text : Nada Enad\n",
      "The First non-repeating Character in a given String is :  N\n"
     ]
    }
   ],
   "source": [
    "##18-Write a Python program to find the first non-repeating character in a given string\n",
    "import collections\n",
    "text= input ('Enter the Text : ')\n",
    "x=collections.defaultdict(int)\n",
    "for i in text:\n",
    "    x[i]+=1\n",
    "for i in sorted(x,key=x.get,reverse=True) :\n",
    "    if x[i]==1:\n",
    "        print('The First non-repeating Character in a given String is : ',i)\n",
    "        break"
   ]
  },
  {
   "cell_type": "code",
   "execution_count": 3,
   "id": "a37f40bd",
   "metadata": {
    "scrolled": true
   },
   "outputs": [
    {
     "name": "stdout",
     "output_type": "stream",
     "text": [
      "Enter the Text : Nada Emad\n",
      "NadaEmad\n"
     ]
    }
   ],
   "source": [
    "##19-Write a Python program to remove spaces from a given string\n",
    "text= input ('Enter the Text : ')\n",
    "print(text.replace(\" \",\"\"))"
   ]
  },
  {
   "cell_type": "code",
   "execution_count": 5,
   "id": "7028740c",
   "metadata": {},
   "outputs": [
    {
     "name": "stdout",
     "output_type": "stream",
     "text": [
      "Enter the Text : python\n",
      "The Number of non-empty Substrings of the Text is : 21\n"
     ]
    }
   ],
   "source": [
    "##20-Write a Python program to count the number of non-empty substrings of a given string\n",
    "text= input ('Enter the Text : ')\n",
    "n=len(text)\n",
    "n=(n*(n+1))/2\n",
    "print('The Number of non-empty Substrings of the Text is :',int(n))"
   ]
  },
  {
   "cell_type": "code",
   "execution_count": 44,
   "id": "a20cfabf",
   "metadata": {
    "scrolled": true
   },
   "outputs": [
    {
     "name": "stdout",
     "output_type": "stream",
     "text": [
      "Enter The List :10,20,30,40,50\n",
      "['50', '20', '30', '40', '10']\n"
     ]
    }
   ],
   "source": [
    "##21-write a Python program to swap first and last element of any list.\n",
    "def swap_first_and_last_element(list):\n",
    "    list[0],list[-1]=list[-1],list[0]\n",
    "    return (list)\n",
    "List=input('Enter The List :')\n",
    "List=List.split(',')\n",
    "print(swap_first_and_last_element(List))"
   ]
  },
  {
   "cell_type": "code",
   "execution_count": 45,
   "id": "b9386ff1",
   "metadata": {},
   "outputs": [
    {
     "name": "stdout",
     "output_type": "stream",
     "text": [
      "Enter The List :23,65,19,90\n",
      "Enter The positions1 :1\n",
      "Enter The positions2 :3\n",
      "['19', '65', '23', '90']\n"
     ]
    }
   ],
   "source": [
    "##22-Given a list in Python and provided the positions of the elements, write a program to swap the two elements \n",
    "##in the list. (Input : List = [23, 65, 19, 90], pos1 = 1, pos2 = 3 Output : [19, 65, 23, 90])\n",
    "def swap_two_element(list,pos1,pos2):\n",
    "    list[pos1],list[pos2]=list[pos2],list[pos1]\n",
    "    return (list)\n",
    "List=input('Enter The List :')\n",
    "List=List.split(',')\n",
    "pos1=int(input('Enter The positions1 :'))\n",
    "pos2=int(input('Enter The positions2 :'))\n",
    "print(swap_two_element(List,pos1-1,pos2-1))"
   ]
  },
  {
   "cell_type": "code",
   "execution_count": 41,
   "id": "02a12fe4",
   "metadata": {},
   "outputs": [
    {
     "name": "stdout",
     "output_type": "stream",
     "text": [
      "Enter The List :10,20,30,40,50,60\n",
      "The Length of the List : 6\n"
     ]
    }
   ],
   "source": [
    "##23-search for the all ways to know the length of the list\n",
    "list=input('Enter The List :')\n",
    "list=list.split(',')\n",
    "print('The Length of the List :',len(list))"
   ]
  },
  {
   "cell_type": "code",
   "execution_count": 46,
   "id": "c29c8470",
   "metadata": {},
   "outputs": [
    {
     "name": "stdout",
     "output_type": "stream",
     "text": [
      "Enter The List :10,20,30,40,50\n",
      "The Length of the List : 5\n"
     ]
    }
   ],
   "source": [
    "list=input('Enter The List :')\n",
    "list=list.split(',')\n",
    "counter=0\n",
    "for i in list:\n",
    "    counter+=1\n",
    "print('The Length of the List :',counter)\n"
   ]
  },
  {
   "cell_type": "code",
   "execution_count": 47,
   "id": "ab6c3036",
   "metadata": {},
   "outputs": [
    {
     "name": "stdout",
     "output_type": "stream",
     "text": [
      "Enter The List :10,20,30,40,50\n",
      "The Length of the List : 5\n"
     ]
    }
   ],
   "source": [
    "list=input('Enter The List :')\n",
    "list=list.split(',')\n",
    "length=sum(1 for _ in  list)\n",
    "print('The Length of the List :',length)"
   ]
  },
  {
   "cell_type": "code",
   "execution_count": 48,
   "id": "9055c1df",
   "metadata": {},
   "outputs": [
    {
     "name": "stdout",
     "output_type": "stream",
     "text": [
      "Enter The List :40,20,80,66\n",
      "The Length of the List : 80\n"
     ]
    }
   ],
   "source": [
    "##24-write a Python code to find the Maximum number of list of numbers.\n",
    "list=input('Enter The List :')\n",
    "list=list.split(',')\n",
    "print('The Length of the List :',max(list))"
   ]
  },
  {
   "cell_type": "code",
   "execution_count": 49,
   "id": "5de810aa",
   "metadata": {},
   "outputs": [
    {
     "name": "stdout",
     "output_type": "stream",
     "text": [
      "Enter The List :40,20,80,66\n",
      "The Length of the List : 20\n"
     ]
    }
   ],
   "source": [
    "##25-write a Python code to find the Minimum number of list of numbers.\n",
    "list=input('Enter The List :')\n",
    "list=list.split(',')\n",
    "print('The Length of the List :',min(list))"
   ]
  },
  {
   "cell_type": "code",
   "execution_count": 51,
   "id": "dfe7e180",
   "metadata": {},
   "outputs": [
    {
     "name": "stdout",
     "output_type": "stream",
     "text": [
      "Enter The element :26\n",
      "It is find\n"
     ]
    }
   ],
   "source": [
    "##26-search for if an elem is existing in list.\n",
    "ele=int(input('Enter The element :'))\n",
    "list=[10,5,26,74,23,5]\n",
    "if ele in list:\n",
    "    print('It is find')\n",
    "else:\n",
    "    print('Not Find')"
   ]
  },
  {
   "cell_type": "code",
   "execution_count": 54,
   "id": "7ede3749",
   "metadata": {},
   "outputs": [
    {
     "name": "stdout",
     "output_type": "stream",
     "text": [
      "The List before deleting is : [10, 5, 26, 74, 23, 5]\n",
      "The List after deleting is : []\n"
     ]
    }
   ],
   "source": [
    "##27-clear python list using different ways.\n",
    "list=[10,5,26,74,23,5]\n",
    "print('The List before deleting is :',list)\n",
    "list.clear()\n",
    "print('The List after deleting is :',list)"
   ]
  },
  {
   "cell_type": "code",
   "execution_count": 59,
   "id": "823116c4",
   "metadata": {},
   "outputs": [
    {
     "name": "stdout",
     "output_type": "stream",
     "text": [
      "The List after deleting is : []\n"
     ]
    }
   ],
   "source": [
    "list=[10,5,26,74,23,5]\n",
    "while (len(list)!=0):\n",
    "    list.pop()\n",
    "print('The List after deleting is :',list)"
   ]
  },
  {
   "cell_type": "code",
   "execution_count": 57,
   "id": "eea963c6",
   "metadata": {},
   "outputs": [
    {
     "name": "stdout",
     "output_type": "stream",
     "text": [
      "The List after deleting is : []\n"
     ]
    }
   ],
   "source": [
    "del list[:]\n",
    "print('The List after deleting is :',list)"
   ]
  },
  {
   "cell_type": "code",
   "execution_count": 69,
   "id": "6160be88",
   "metadata": {},
   "outputs": [
    {
     "name": "stdout",
     "output_type": "stream",
     "text": [
      "Enter The List :1,4,3,2,3,4,1,2\n",
      "The list after removing duplicates : {'4', '1', '3', '2'}\n"
     ]
    }
   ],
   "source": [
    "##28-remove duplicated elements from a list\n",
    "List=input('Enter The List :')\n",
    "List=List.split(',')\n",
    "print('The list after removing duplicates :',set(List))"
   ]
  },
  {
   "cell_type": "code",
   "execution_count": 1,
   "id": "ad35f5cc",
   "metadata": {
    "scrolled": true
   },
   "outputs": [
    {
     "name": "stdout",
     "output_type": "stream",
     "text": [
      "The constructed dictionary list :  [{'name': 'Gfg', 'id': 3}, {'name': 'is', 'id': 8}]\n"
     ]
    }
   ],
   "source": [
    "##29-Given list values and keys list, convert these values to key value pairs in form of list of dictionaries.\n",
    "##(Input : test_list = [“Gfg”, 3, “is”, 8], key_list = [“name”, “id”] Output : [{‘name’: ‘Gfg’, ‘id’: 3}, {‘name’: ‘is’, ‘id’: 8}])\n",
    "test_list =['Gfg', 3, 'is', 8]\n",
    "key_list = ['name', 'id']\n",
    "n=len(test_list)\n",
    "new_list=[]\n",
    "for i in range(0,n,2):\n",
    "     new_list.append({key_list[0]:test_list[i],key_list[1]:test_list[i+1]})\n",
    "print(\"The constructed dictionary list : \" ,new_list)"
   ]
  },
  {
   "cell_type": "code",
   "execution_count": 10,
   "id": "e0f7199d",
   "metadata": {},
   "outputs": [
    {
     "name": "stdout",
     "output_type": "stream",
     "text": [
      "Enter The List :22,35,14,22,17,35\n",
      "count unique values inside a list 4\n"
     ]
    }
   ],
   "source": [
    "##30-write a python program to count unique values inside a list using different ways.\n",
    "List=input('Enter The List :')\n",
    "List=List.split(',')\n",
    "count=len(set(List))\n",
    "print('count unique values inside a list',count)        "
   ]
  },
  {
   "cell_type": "code",
   "execution_count": 9,
   "id": "c2b71a55",
   "metadata": {},
   "outputs": [
    {
     "name": "stdout",
     "output_type": "stream",
     "text": [
      "Enter The List :22,35,14,22,17,35\n",
      "count unique values inside a list 4\n"
     ]
    }
   ],
   "source": [
    "#from collections import Counter\n",
    "List=input('Enter The List :')\n",
    "List=List.split(',')\n",
    "from collections import Counter\n",
    "keys = Counter(List).keys()\n",
    "count=len(keys)\n",
    "print('count unique values inside a list',count)        "
   ]
  },
  {
   "cell_type": "code",
   "execution_count": 19,
   "id": "ac2127f8",
   "metadata": {},
   "outputs": [
    {
     "name": "stdout",
     "output_type": "stream",
     "text": [
      "Enter The List :4, 6, 4, 3, 3, 4, 3, 4, 3, 8\n",
      "The required elements : [' 4', ' 3']\n"
     ]
    }
   ],
   "source": [
    "##31-write a python program Extract all elements with Frequency greater than K \n",
    "#(Input : test_list = [4, 6, 4, 3, 3, 4, 3, 4, 3, 8], K = 3 Output : [4, 3] )\n",
    "List=input('Enter The List :')\n",
    "List=List.split(',')\n",
    "result=[]\n",
    "for i in List:\n",
    "    freq=List.count(i)\n",
    "    if freq > 2 and i not in result:\n",
    "        result.append(i)\n",
    "print(\"The required elements : \",result)     "
   ]
  }
 ],
 "metadata": {
  "kernelspec": {
   "display_name": "Python 3 (ipykernel)",
   "language": "python",
   "name": "python3"
  },
  "language_info": {
   "codemirror_mode": {
    "name": "ipython",
    "version": 3
   },
   "file_extension": ".py",
   "mimetype": "text/x-python",
   "name": "python",
   "nbconvert_exporter": "python",
   "pygments_lexer": "ipython3",
   "version": "3.11.3"
  }
 },
 "nbformat": 4,
 "nbformat_minor": 5
}
